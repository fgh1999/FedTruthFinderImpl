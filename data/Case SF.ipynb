{
 "cells": [
  {
   "cell_type": "code",
   "execution_count": 1,
   "metadata": {},
   "outputs": [],
   "source": [
    "def bound01(num):\n",
    "    return (num if num < 1 else 1) if num > 0 else 0\n",
    "\n",
    "def average(nums):\n",
    "    return bound01(sum(nums) / len(nums))\n",
    "\n",
    "mean = average # alias"
   ]
  },
  {
   "cell_type": "markdown",
   "metadata": {},
   "source": [
    "## Read Groundtruth, Events and False Rates"
   ]
  },
  {
   "cell_type": "code",
   "execution_count": 2,
   "metadata": {},
   "outputs": [
    {
     "name": "stdout",
     "output_type": "stream",
     "text": [
      "real_centers_num: 55\n",
      "clients_num: 20\n"
     ]
    }
   ],
   "source": [
    "import os\n",
    "import pandas as pd\n",
    "\n",
    "# --- Path Setting ---\n",
    "CLIENT_NUM = 20\n",
    "# ERROR_RATE = \"32\"\n",
    "CONNECTION_ERROR_RATE = \"2775\" # 0.01, 0.0000\n",
    "LABELED_CENTERS_PATH = \"./data/SF/centers_100_labeled.csv\"\n",
    "EVENTS_DIR_PATH = f\"./data/SF/event_SF_{CLIENT_NUM}\"\n",
    "FALSE_RATES_PATH = \"./data/SF/error_rates_for_each_client.csv\"\n",
    "LOG_DIR = \"./data/log/log_{}_{}\".format(CLIENT_NUM, CONNECTION_ERROR_RATE)\n",
    "# LOG_DIR = \"./data/log/log\"\n",
    "\n",
    "# Read Groundtruth\n",
    "centers = pd.read_csv(LABELED_CENTERS_PATH, dtype={\"cluster-id\": object})\n",
    "real_centers = centers.loc[centers[\"traffic-light\"] >= 1, [\"cluster-id\"]]\n",
    "real_centers = set(real_centers[\"cluster-id\"].to_list())\n",
    "print(\"real_centers_num:\", len(real_centers))\n",
    "# print(\"total_centers_num:\", len(centers))\n",
    "\n",
    "# Read Events (of clients)\n",
    "event_set = dict() # indexed by slaves' name\n",
    "for _, _, files in os.walk(EVENTS_DIR_PATH):\n",
    "    for file in files:\n",
    "        name = os.path.splitext(os.path.basename(file))[0]\n",
    "        path = os.path.join(EVENTS_DIR_PATH, file)\n",
    "        event_set[name] = pd.read_csv(path, dtype={\"identifier\": object})\n",
    "        event_set[name].set_index(\"identifier\", inplace=True)\n",
    "\n",
    "print(\"clients_num:\", len(event_set))\n",
    "\n",
    "# Read False Rates\n",
    "false_rates = pd.read_csv(FALSE_RATES_PATH, dtype={\"id\": object}, index_col=\"id\")[\"error_rate\"]\n",
    "false_rates.name = \"false_rate\""
   ]
  },
  {
   "cell_type": "markdown",
   "metadata": {},
   "source": [
    "## Process Log File"
   ]
  },
  {
   "cell_type": "code",
   "execution_count": 3,
   "metadata": {},
   "outputs": [],
   "source": [
    "import os\n",
    "import re\n",
    "\n",
    "def read_slave_log(path):\n",
    "    \"\"\"\n",
    "    extract uid, name and its trustworthiness history from a slave's log\n",
    "    \"\"\"\n",
    "    name = os.path.splitext(os.path.basename(path))[0]\n",
    "    file = open(path, 'r')\n",
    "    line = file.readline()\n",
    "    uid_match = re.search(r\"self.uid: (\\d+)\", line)\n",
    "    uid = int(uid_match.group(1))\n",
    "\n",
    "    trustworthiness_history = list()\n",
    "    while line:\n",
    "        if \"update_trustworthiness_with\" in line:\n",
    "            match = re.search(r\"call: (.+),\", line)\n",
    "            trustworthiness = float(match.group(1))\n",
    "            trustworthiness_history.append(trustworthiness)\n",
    "\n",
    "        line = file.readline()\n",
    "    \n",
    "    file.close()\n",
    "    return uid, name, trustworthiness_history\n",
    "\n",
    "def read_master_log(path):\n",
    "    \"\"\"\n",
    "    extract **event confidence** and **leader-board** from master's log\n",
    "    \"\"\"\n",
    "    file = open(path, 'r')\n",
    "    event_identifiers = dict() # { event_identifier: eid }\n",
    "    event_confidences = dict() # { eid: true_confidence }\n",
    "    leaderboard = list() # [uid] ascendingly\n",
    "    iter_counter = 0\n",
    "\n",
    "    line = file.readline()\n",
    "    match = re.search(r\"\\d+\", line)\n",
    "    line = line[match.end():]\n",
    "    match = re.search(r\"\\d+\", line)\n",
    "    h_start = int(match.group())\n",
    "    line = line[match.end():]\n",
    "    match = re.search(r\"\\d+\", line)\n",
    "    m_start = int(match.group())\n",
    "    line = line[match.end():]\n",
    "    match = re.search(r\"\\d+\", line)\n",
    "    s_start = int(match.group())\n",
    "    line = line[match.end():]\n",
    "    print(f'start at: {h_start}:{m_start}:{s_start}')\n",
    "\n",
    "    while line:\n",
    "        if \"Identifier Eid Map\" in line:\n",
    "            match = re.search(r\"(([a-zA-Z0-9]+): (\\d+))\", line)\n",
    "            while match:\n",
    "                event_identifier = match.group(2)\n",
    "                eid = match.group(3)\n",
    "                event_identifiers[event_identifier] = eid\n",
    "                line = line[match.end():]\n",
    "                match = re.search(r\"(([a-zA-Z0-9]+): (\\d+))\", line)\n",
    "        elif \"event_confidence\" in line:\n",
    "            match = re.search(r\"(([a-zA-Z0-9]+): (\\d+))\", line)\n",
    "            while match:\n",
    "                eid = match.group(2)\n",
    "                confidence = match.group(3)\n",
    "                event_confidences[eid] = float(confidence)\n",
    "                line = line[match.end():]\n",
    "                match = re.search(r\"(([a-zA-Z0-9]+): ([\\d|\\.]+))\", line)\n",
    "        elif \"leader-board\" in line:\n",
    "            line = line[24:]\n",
    "            match = re.search(r\"\\d+\", line)\n",
    "            while match:\n",
    "                uid = match.group()\n",
    "                leaderboard.append(uid)\n",
    "                line = line[match.end():]\n",
    "                match = re.search(r\"\\d+\", line)\n",
    "        elif \"Iteration, round_ith\" in line:\n",
    "            iter_counter += 1\n",
    "        elif \"Traffic in bytes\" in line:\n",
    "            tmp_line = line\n",
    "            match = re.search(r\"\\d+\", line)\n",
    "            line = line[match.end():]\n",
    "            match = re.search(r\"\\d+\", line)\n",
    "            h_end = int(match.group())\n",
    "            line = line[match.end():]\n",
    "            match = re.search(r\"\\d+\", line)\n",
    "            m_end = int(match.group())\n",
    "            line = line[match.end():]\n",
    "            match = re.search(r\"\\d+\", line)\n",
    "            s_end = int(match.group())\n",
    "            h_cost, m_cost, s_cost = h_end - h_start, m_end - m_start, s_end - s_start\n",
    "            total_time_cost = h_cost * 3600 + m_cost * 60 + s_cost\n",
    "            print(f'end at: {h_end}:{m_end}:{s_end}')\n",
    "\n",
    "            line = tmp_line[24:]\n",
    "            match = re.search(r\"\\d+\", line)\n",
    "            in_bytes = match.group()\n",
    "            line = line[match.end():]\n",
    "            match = re.search(r\"\\d+\", line)\n",
    "            out_bytes = match.group()\n",
    "        line = file.readline()\n",
    "\n",
    "    file.close()\n",
    "    # leaderboard = leaderboard[5:] # skip date info numbers\n",
    "    return event_identifiers, event_confidences, leaderboard, (in_bytes, out_bytes), total_time_cost, iter_counter"
   ]
  },
  {
   "cell_type": "code",
   "execution_count": 4,
   "metadata": {},
   "outputs": [
    {
     "name": "stdout",
     "output_type": "stream",
     "text": [
      "./data/log/log_20_2775\n",
      "start at: 13:31:41\n",
      "end at: 13:31:56\n",
      "The number of slaves: 20\n",
      "The number of survived events: 96\n",
      "The number of survived trustworithiness: 7\n",
      "Traffic in bytes: in => 5647759, out => 3772807\n",
      "Total time cost in second: 15\n",
      "#iter: 3\n"
     ]
    }
   ],
   "source": [
    "master = None\n",
    "event_identifiers, event_confidences_fed, leaderboard = None, None, None\n",
    "slaves = dict() # indexed by slaves' name\n",
    "print(LOG_DIR)\n",
    "for _, _, files in os.walk(LOG_DIR):\n",
    "    for file in files:\n",
    "        file = os.path.join(LOG_DIR, file)\n",
    "        if file.endswith(\"master.log\"):\n",
    "            event_identifiers, event_confidences_fed, leaderboard, network_io, total_seconds, iter_n = read_master_log(file)\n",
    "        else:\n",
    "            uid, name, trustworthiness_history = read_slave_log(file)\n",
    "            slaves[name] =  { \"uid\": uid, \"trustworthiness_history\": trustworthiness_history }\n",
    "\n",
    "print(\"The number of slaves:\", len(slaves))\n",
    "print(\"The number of survived events:\", len(event_confidences_fed))\n",
    "print(\"The number of survived trustworithiness:\", len(leaderboard))\n",
    "print(f\"Traffic in bytes: in => {network_io[1]}, out => {network_io[0]}\")\n",
    "print(f\"Total time cost in second: {total_seconds}\")\n",
    "print(f\"#iter: {iter_n}\")"
   ]
  },
  {
   "cell_type": "markdown",
   "metadata": {},
   "source": [
    "## Hellinger Distance"
   ]
  },
  {
   "cell_type": "code",
   "execution_count": 5,
   "metadata": {},
   "outputs": [],
   "source": [
    "import numpy as np\n",
    "\n",
    "def hellinger_distance(real_dist, fed_dist):\n",
    "    assert len(real_dist) == len(fed_dist)\n",
    "    real_dist, fed_dist = np.array(real_dist), np.array(fed_dist)\n",
    "    return np.sqrt(1-np.sum(np.sqrt(real_dist * fed_dist)))"
   ]
  },
  {
   "cell_type": "markdown",
   "metadata": {},
   "source": [
    "# Central Truth Discovery"
   ]
  },
  {
   "cell_type": "code",
   "execution_count": 6,
   "metadata": {},
   "outputs": [],
   "source": [
    "import numpy as np\n",
    "import random\n",
    "from copy import deepcopy\n",
    "\n",
    "class Event(object):\n",
    "    def __init__(self, claim, identifier):\n",
    "        # assert false_rate >= 0 and false_rate <= 1, \"false_rate out of range([0, 1])\"\n",
    "        self.identifier = identifier\n",
    "        # true_possibility = 1.0 - false_rate\n",
    "        self.claim = claim\n",
    "        self.confidence = np.array([0.5, 0.5])\n",
    "\n",
    "class Client(object):\n",
    "    DEFAULT_TRUSTWORTHINESS = 0.9\n",
    "\n",
    "    def __init__(self, name, error_rate, owned_events): \n",
    "        # owned_events: dict(owned event_identifiers: claim)\n",
    "        self.name = name\n",
    "        self.trustworthiness = self.DEFAULT_TRUSTWORTHINESS # for comparision\n",
    "        self.error_rate = error_rate # the possibility to provide a wrong claim\n",
    "        self.events = {identifier: Event(claim, identifier) for identifier, claim in owned_events.items()}\n",
    "\n",
    "    def update_trustworthiness(self):\n",
    "        possibilities = [e.confidence[0] if e.claim else e.confidence[1] for e in self.events.values()]\n",
    "        self.trustworthiness = average(possibilities)\n",
    "\n",
    "    def claim(self, event_identifier):\n",
    "        claim = deepcopy(self.events[event_identifier])\n",
    "        poss = random.random()\n",
    "        if poss < self.error_rate:\n",
    "            claim.claim = not claim.claim\n",
    "        return claim\n",
    "\n",
    "def trustworthiness_computations(clients):\n",
    "    for client in clients:\n",
    "        client.update_trustworthiness()\n",
    "\n",
    "def event_confidence_computation(clients, event_identifier):\n",
    "    clients = [c for c in clients if event_identifier in c.events]\n",
    "    claims = {c.name: c.claim(event_identifier) for c in clients}\n",
    "    trustworthiness = [c.trustworthiness if claims[c.name].claim else (1 - c.trustworthiness) for c in clients]\n",
    "    true_possibility = average(trustworthiness)\n",
    "    confidence = np.array([true_possibility, 1.0 - true_possibility])\n",
    "\n",
    "    for client in clients:\n",
    "        client.events[event_identifier].confidence = confidence\n",
    "    return confidence\n",
    "\n",
    "def event_confidence_computations(event_identifiers, clients):\n",
    "    confidences = dict()\n",
    "    for event_identifier in event_identifiers:\n",
    "        confidences[event_identifier] = event_confidence_computation(clients, event_identifier)\n",
    "    return confidences # { event_identifier: confidence }\n",
    "\n",
    "# def update_event_list(clients, claims):\n",
    "#     for c in clients:\n",
    "#         if c.name in claims:\n",
    "#             c.event_list.append(claims[c.name])\n",
    "\n",
    "# def average_distance(list_a, list_b):\n",
    "#     assert len(list_a) == len(list_b)\n",
    "#     sum = 0\n",
    "#     for i in range(len(list_a)):\n",
    "#         sum += abs(list_a[i] - list_b[i])\n",
    "#     return sum / len(list_a)\n",
    "\n",
    "def iteration_condition(round_ith, avg_distance):\n",
    "    return round_ith <= 10 and avg_distance > 0.01"
   ]
  },
  {
   "cell_type": "code",
   "execution_count": 7,
   "metadata": {
    "tags": []
   },
   "outputs": [],
   "source": [
    "# run simulation\n",
    "def central_truth_discovery(event_identifiers):\n",
    "    owned_identifiers = dict() # indexed by name\n",
    "    for name, events in event_set.items():\n",
    "        events = events[events[\"owned\"]] # filter out the records that is not owned by this client\n",
    "        owned_identifiers[name] = events[\"claim\"].to_dict()\n",
    "\n",
    "    clients = [Client(name, false_rates[name], owned_identifiers[name]) for name in owned_identifiers.keys()]\n",
    "    round_counter = 0\n",
    "    avg_dist = 1\n",
    "    confidences_tmp = dict() # indexed by event_identifier: aggregated true event_confidence\n",
    "    while iteration_condition(round_counter, avg_dist):\n",
    "        confidences = event_confidence_computations(event_identifiers, clients)\n",
    "        trustworthiness_computations(clients)\n",
    "        round_counter += 1\n",
    "\n",
    "        if len(confidences_tmp) == 0:\n",
    "            for identifier, confidence in confidences.items():\n",
    "                    confidences_tmp[identifier] = confidence\n",
    "            continue\n",
    "\n",
    "        dist_sum = 0\n",
    "        for identifier, confidence in confidences.items():\n",
    "            if identifier in confidences_tmp:\n",
    "                dist_sum += abs(confidences_tmp[identifier][0] - confidence[0])\n",
    "                confidences_tmp[identifier] = confidence\n",
    "        avg_dist = dist_sum / len(confidences)\n",
    "\n",
    "    return confidences_tmp\n",
    "\n",
    "all_event_identifiers = next(iter(event_set.values())).index.to_list()\n",
    "event_confidences_central = central_truth_discovery(all_event_identifiers)\n",
    "# pd.DataFrame(event_confidences.values(), event_confidences.keys()).describe()"
   ]
  },
  {
   "cell_type": "markdown",
   "metadata": {},
   "source": [
    "# Federated Truth Finder\n"
   ]
  },
  {
   "cell_type": "code",
   "execution_count": 8,
   "metadata": {},
   "outputs": [],
   "source": [
    "fed_event_true_confidence = {identifier: event_confidences_fed[eid] for identifier, eid in event_identifiers.items() if eid in event_confidences_fed}"
   ]
  },
  {
   "cell_type": "markdown",
   "metadata": {},
   "source": [
    "# Central Fashion vs. Federated Fashion\n",
    "## Distribution Distance"
   ]
  },
  {
   "cell_type": "code",
   "execution_count": 9,
   "metadata": {},
   "outputs": [],
   "source": [
    "import matplotlib.pyplot as plt\n",
    "\n",
    "def plot_events_true_possibility(confidences):\n",
    "    x, y = list(confidences.keys()), list(confidences.values())\n",
    "    plt.bar(x, y)\n",
    "    plt.xticks(x, x, rotation=90)\n",
    "    plt.tick_params(labelsize=4)\n",
    "    plt.ylabel(\"the possibility when classified as TRUE\")\n",
    "    plt.xlabel(\"event identifier\")"
   ]
  },
  {
   "cell_type": "code",
   "execution_count": 10,
   "metadata": {},
   "outputs": [
    {
     "data": {
      "image/png": "[encoded data removed]",
      "text/plain": [
       "<Figure size 432x288 with 1 Axes>"
      ]
     },
     "metadata": {
      "needs_background": "light"
     },
     "output_type": "display_data"
    }
   ],
   "source": [
    "true_possibilities_from_central = {identifier: conf[0] for identifier, conf in event_confidences_central.items()}\n",
    "plot_events_true_possibility(true_possibilities_from_central)\n",
    "plt.title(\"Central Truth Discovery\")\n",
    "plt.show()"
   ]
  },
  {
   "cell_type": "code",
   "execution_count": 11,
   "metadata": {},
   "outputs": [
    {
     "data": {
      "image/png": "[encoded data removed]",
      "text/plain": [
       "<Figure size 432x288 with 1 Axes>"
      ]
     },
     "metadata": {
      "needs_background": "light"
     },
     "output_type": "display_data"
    }
   ],
   "source": [
    "true_possibilities_from_fed = {identifier: event_confidences_fed[eid] for identifier, eid in event_identifiers.items()}\n",
    "plot_events_true_possibility(true_possibilities_from_fed)\n",
    "plt.title(\"Federated Truth Finder\")\n",
    "plt.show()"
   ]
  },
  {
   "cell_type": "code",
   "execution_count": 12,
   "metadata": {},
   "outputs": [],
   "source": [
    "# assert set(true_possibilities_from_fed.keys()) == set(true_possibilities_from_central.keys())\n",
    "fed, cen = true_possibilities_from_fed, true_possibilities_from_central\n",
    "distances = {id: hellinger_distance([fed[id], 1-fed[id]], [cen[id], 1-cen[id]]) for id in fed.keys()}"
   ]
  },
  {
   "cell_type": "code",
   "execution_count": 13,
   "metadata": {},
   "outputs": [
    {
     "data": {
      "text/plain": [
       "96"
      ]
     },
     "execution_count": 13,
     "metadata": {},
     "output_type": "execute_result"
    }
   ],
   "source": [
    "len(true_possibilities_from_central.keys())"
   ]
  },
  {
   "cell_type": "code",
   "execution_count": 14,
   "metadata": {},
   "outputs": [
    {
     "data": {
      "image/png": "[encoded data removed]",
      "text/plain": [
       "<Figure size 432x288 with 1 Axes>"
      ]
     },
     "metadata": {
      "needs_background": "light"
     },
     "output_type": "display_data"
    }
   ],
   "source": [
    "plot_events_true_possibility(distances)\n",
    "plt.title(\"Distance Between the Federated and the Central\")\n",
    "plt.ylabel(\"Hellinger Distance\")\n",
    "plt.show()"
   ]
  },
  {
   "cell_type": "code",
   "execution_count": 15,
   "metadata": {},
   "outputs": [
    {
     "data": {
      "text/plain": [
       "count    96.000000\n",
       "mean      0.088005\n",
       "std       0.060298\n",
       "min       0.002652\n",
       "25%       0.060742\n",
       "50%       0.084532\n",
       "75%       0.107188\n",
       "max       0.534539\n",
       "dtype: float64"
      ]
     },
     "execution_count": 15,
     "metadata": {},
     "output_type": "execute_result"
    }
   ],
   "source": [
    "pd.Series(distances).describe()"
   ]
  },
  {
   "cell_type": "code",
   "execution_count": 16,
   "metadata": {},
   "outputs": [
    {
     "data": {
      "image/png": "[encoded data removed]",
      "text/plain": [
       "<Figure size 432x288 with 1 Axes>"
      ]
     },
     "metadata": {
      "needs_background": "light"
     },
     "output_type": "display_data"
    }
   ],
   "source": [
    "plot_events_true_possibility(true_possibilities_from_central)\n",
    "def plot_events_true_possibility_both(central, fed, bar_width=1.2, labelsize=4):\n",
    "    plt.cla()\n",
    "    import numpy as np\n",
    "    central_x, central_y = list(central.keys()), list(central.values())\n",
    "    fed_x, fed_y = list(fed.keys()), list(fed.values())\n",
    "\n",
    "    assert central_x == fed_x\n",
    "    x = np.arange(len(central_x)) * 3\n",
    "    tick_label = central_x\n",
    "    del fed_x\n",
    "\n",
    "    plt.bar(x, central_y, width=bar_width, label=\"central\")\n",
    "    plt.bar(x + bar_width, fed_y, width=bar_width, label=\"federated\")\n",
    "\n",
    "    plt.xticks(x + bar_width/2, tick_label, rotation=90)\n",
    "    plt.tick_params(labelsize=labelsize)\n",
    "    plt.ylabel(\"the possibility when classified as TRUE\")\n",
    "    plt.xlabel(\"event identifier\")\n",
    "    plt.legend()\n",
    "    plt.figure(figsize=(12, 6), dpi=100)\n",
    "    plt.show()\n",
    "\n",
    "# plot_events_true_possibility_both(true_possibilities_from_central, true_possibilities_from_fed)"
   ]
  },
  {
   "cell_type": "markdown",
   "metadata": {},
   "source": [
    "## Accuracy"
   ]
  },
  {
   "cell_type": "code",
   "execution_count": 17,
   "metadata": {},
   "outputs": [],
   "source": [
    "def calc_acc(true_possibilities):\n",
    "    accuracies = dict() # indexed by event_identifier\n",
    "    for identifier, confidence in true_possibilities.items():\n",
    "        accurate = ((confidence > 0.5 and identifier in real_centers) or (confidence <= 0.5 and identifier not in real_centers))\n",
    "        accuracies[identifier] = accurate\n",
    "    return  mean(accuracies.values())"
   ]
  },
  {
   "cell_type": "code",
   "execution_count": 18,
   "metadata": {},
   "outputs": [
    {
     "name": "stdout",
     "output_type": "stream",
     "text": [
      "mean(accuracies of clients)_central: 0.9583333333333334\n",
      "mean(accuracies of clients)_fed: 0.9375\n"
     ]
    }
   ],
   "source": [
    "print(\"mean(accuracies of clients)_central:\", calc_acc(true_possibilities_from_central))\n",
    "print(\"mean(accuracies of clients)_fed:\", calc_acc(true_possibilities_from_fed))"
   ]
  }
 ],
 "metadata": {
  "interpreter": {
   "hash": "d278907fdc7001d4ec5b92f8efa4203e52a50720324dc535e469e082981abd42"
  },
  "kernelspec": {
   "display_name": "Python 3.8.3 64-bit",
   "language": "python",
   "name": "python3"
  },
  "language_info": {
   "codemirror_mode": {
    "name": "ipython",
    "version": 3
   },
   "file_extension": ".py",
   "mimetype": "text/x-python",
   "name": "python",
   "nbconvert_exporter": "python",
   "pygments_lexer": "ipython3",
   "version": "3.9.7"
  },
  "orig_nbformat": 2
 },
 "nbformat": 4,
 "nbformat_minor": 2
}
