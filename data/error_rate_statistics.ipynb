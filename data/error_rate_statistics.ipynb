{
 "metadata": {
  "language_info": {
   "codemirror_mode": {
    "name": "ipython",
    "version": 3
   },
   "file_extension": ".py",
   "mimetype": "text/x-python",
   "name": "python",
   "nbconvert_exporter": "python",
   "pygments_lexer": "ipython3",
   "version": "3.7.6-final"
  },
  "orig_nbformat": 2,
  "kernelspec": {
   "name": "python38364bitcd8649476d364dd1837e5cf906307144",
   "display_name": "Python 3.8.3 64-bit",
   "language": "python"
  }
 },
 "nbformat": 4,
 "nbformat_minor": 2,
 "cells": [
  {
   "cell_type": "code",
   "execution_count": 1,
   "metadata": {},
   "outputs": [],
   "source": [
    "import pandas as pd\n",
    "import os\n",
    "\n",
    "# --- Path Settings ---\n",
    "DIR_PREFIX = \"./data/SF/\"\n",
    "CENTERS_LABELED_FILENAME = \"centers_100_labeled.csv\"\n",
    "WAITING_POSITIONS_FILENAME = \"waiting_positions.csv\"\n",
    "ERROR_RATE_STATISTICS_FILENAME = \"error_rates.csv\"\n",
    "EVENTS_DIR_NAME = \"event_SF\"\n",
    "\n",
    "# --- Test Settings ---\n",
    "GROUP_NUM = 3\n",
    "CLIENTS_NUM_MAX_LIMIT = 20\n",
    "DROP_DUPLICATE_REPORTS = False\n",
    "assert GROUP_NUM * 2 < CLIENTS_NUM_MAX_LIMIT"
   ]
  },
  {
   "cell_type": "code",
   "execution_count": 2,
   "metadata": {},
   "outputs": [
    {
     "output_type": "execute_result",
     "data": {
      "text/plain": [
       "event-identifier\n",
       "3     1\n",
       "6     0\n",
       "7     0\n",
       "17    0\n",
       "20    0\n",
       "Name: groundtruth, dtype: int64"
      ]
     },
     "metadata": {},
     "execution_count": 2
    }
   ],
   "source": [
    "centers = pd.read_csv(os.path.join(DIR_PREFIX, CENTERS_LABELED_FILENAME), dtype={\"cluster-id\": object})\n",
    "centers[\"event-identifier\"] = centers[\"cluster-id\"]\n",
    "centers[\"groundtruth\"] = centers[\"traffic-light\"]\n",
    "centers.set_index(\"event-identifier\", inplace=True)\n",
    "centers = centers[\"groundtruth\"]\n",
    "centers.head()"
   ]
  },
  {
   "cell_type": "code",
   "execution_count": 3,
   "metadata": {},
   "outputs": [
    {
     "output_type": "stream",
     "name": "stdout",
     "text": [
      "clients_num: 20\n"
     ]
    }
   ],
   "source": [
    "event_sets = dict() # indexed by slaves' name\n",
    "for _, _, files in os.walk(os.path.join(DIR_PREFIX, EVENTS_DIR_NAME)):\n",
    "    for file in files:\n",
    "        name = os.path.splitext(os.path.basename(file))[0]\n",
    "        path = os.path.join(DIR_PREFIX, EVENTS_DIR_NAME, file)\n",
    "        events = pd.read_csv(path, usecols=[\"identifier\", \"owned\"], dtype={\"identifier\": object})\n",
    "        events.set_index(\"identifier\", inplace=True)\n",
    "        events = events[events[\"owned\"]]\n",
    "        del events[\"owned\"]\n",
    "\n",
    "        events[\"groundtruth\"] = events.index.map(lambda id: centers[id])\n",
    "        event_sets[name] = events\n",
    "\n",
    "print(\"clients_num:\", len(event_sets))"
   ]
  },
  {
   "cell_type": "code",
   "execution_count": 4,
   "metadata": {},
   "outputs": [],
   "source": [
    "false_rates = [[name, 1-groundtruth.mean().iloc[0]] for name, groundtruth in event_sets.items()]\n",
    "false_rates = pd.DataFrame(false_rates, columns=[\"id\", \"error_rate\"])\n",
    "false_rates.set_index(\"id\", inplace=True)\n",
    "false_rates.to_csv(os.path.join(DIR_PREFIX, \"error_rates.csv\"))"
   ]
  }
 ]
}