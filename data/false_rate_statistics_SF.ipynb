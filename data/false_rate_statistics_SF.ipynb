{
 "metadata": {
  "language_info": {
   "codemirror_mode": {
    "name": "ipython",
    "version": 3
   },
   "file_extension": ".py",
   "mimetype": "text/x-python",
   "name": "python",
   "nbconvert_exporter": "python",
   "pygments_lexer": "ipython3",
   "version": "3.7.6-final"
  },
  "orig_nbformat": 2,
  "kernelspec": {
   "name": "python38364bitcd8649476d364dd1837e5cf906307144",
   "display_name": "Python 3.8.3 64-bit",
   "language": "python"
  }
 },
 "nbformat": 4,
 "nbformat_minor": 2,
 "cells": [
  {
   "cell_type": "code",
   "execution_count": 1,
   "metadata": {},
   "outputs": [],
   "source": [
    "import pandas as pd\n",
    "import os\n",
    "\n",
    "# --- Path Settings ---\n",
    "DIR_PREFIX = \"./data/SF/\"\n",
    "CENTERS_LABELED_FILENAME = \"centers_100_labeled.csv\"\n",
    "WAITING_POSITIONS_FILENAME = \"waiting_positions.csv\"\n",
    "ERROR_RATE_STATISTICS_FILENAME = \"error_rates.csv\"\n",
    "\n",
    "# --- Test Settings ---\n",
    "GROUP_NUM = 3\n",
    "CLIENTS_NUM_MAX_LIMIT = 15\n",
    "DROP_DUPLICATE_REPORTS = False\n",
    "assert GROUP_NUM * 2 < CLIENTS_NUM_MAX_LIMIT"
   ]
  },
  {
   "cell_type": "code",
   "execution_count": 2,
   "metadata": {},
   "outputs": [
    {
     "output_type": "execute_result",
     "data": {
      "text/plain": [
       "count    100.00\n",
       "mean       0.55\n",
       "std        0.50\n",
       "min        0.00\n",
       "25%        0.00\n",
       "50%        1.00\n",
       "75%        1.00\n",
       "max        1.00\n",
       "Name: traffic-light, dtype: float64"
      ]
     },
     "metadata": {},
     "execution_count": 2
    }
   ],
   "source": [
    "centers = pd.read_csv(os.path.join(DIR_PREFIX, CENTERS_LABELED_FILENAME), index_col=\"cluster-id\")\n",
    "centers = centers[\"traffic-light\"]\n",
    "centers.describe()"
   ]
  },
  {
   "cell_type": "code",
   "execution_count": 3,
   "metadata": {},
   "outputs": [
    {
     "output_type": "execute_result",
     "data": {
      "text/plain": [
       "         time  latitude  longitude        id  cluster-id\n",
       "0  1211020534  37.77764 -122.43995  abmuyawm           0\n",
       "1  1211020595  37.77763 -122.43996  abmuyawm           0\n",
       "2  1211021066  37.77922 -122.43444  abmuyawm           1\n",
       "3  1211022336  37.77364 -122.43808  abmuyawm           0\n",
       "4  1211022569  37.77393 -122.43041  abmuyawm           0"
      ],
      "text/html": "<div>\n<style scoped>\n    .dataframe tbody tr th:only-of-type {\n        vertical-align: middle;\n    }\n\n    .dataframe tbody tr th {\n        vertical-align: top;\n    }\n\n    .dataframe thead th {\n        text-align: right;\n    }\n</style>\n<table border=\"1\" class=\"dataframe\">\n  <thead>\n    <tr style=\"text-align: right;\">\n      <th></th>\n      <th>time</th>\n      <th>latitude</th>\n      <th>longitude</th>\n      <th>id</th>\n      <th>cluster-id</th>\n    </tr>\n  </thead>\n  <tbody>\n    <tr>\n      <th>0</th>\n      <td>1211020534</td>\n      <td>37.77764</td>\n      <td>-122.43995</td>\n      <td>abmuyawm</td>\n      <td>0</td>\n    </tr>\n    <tr>\n      <th>1</th>\n      <td>1211020595</td>\n      <td>37.77763</td>\n      <td>-122.43996</td>\n      <td>abmuyawm</td>\n      <td>0</td>\n    </tr>\n    <tr>\n      <th>2</th>\n      <td>1211021066</td>\n      <td>37.77922</td>\n      <td>-122.43444</td>\n      <td>abmuyawm</td>\n      <td>1</td>\n    </tr>\n    <tr>\n      <th>3</th>\n      <td>1211022336</td>\n      <td>37.77364</td>\n      <td>-122.43808</td>\n      <td>abmuyawm</td>\n      <td>0</td>\n    </tr>\n    <tr>\n      <th>4</th>\n      <td>1211022569</td>\n      <td>37.77393</td>\n      <td>-122.43041</td>\n      <td>abmuyawm</td>\n      <td>0</td>\n    </tr>\n  </tbody>\n</table>\n</div>"
     },
     "metadata": {},
     "execution_count": 3
    }
   ],
   "source": [
    "waiting_positions = pd.read_csv(os.path.join(DIR_PREFIX, WAITING_POSITIONS_FILENAME))\n",
    "waiting_positions.head()"
   ]
  },
  {
   "cell_type": "code",
   "execution_count": 4,
   "metadata": {},
   "outputs": [
    {
     "output_type": "execute_result",
     "data": {
      "text/plain": [
       "               time     latitude    longitude   cluster-id  traffic-light\n",
       "count  7.169000e+03  7169.000000  7169.000000  7169.000000    7169.000000\n",
       "mean   1.212012e+09    37.761167  -122.435798   282.382062       0.617938\n",
       "std    5.884922e+05     0.021653     0.027070   286.447924       0.485925\n",
       "min    1.211020e+09    37.701400  -122.499970     3.000000       0.000000\n",
       "25%    1.211512e+09    37.748500  -122.455920    63.000000       0.000000\n",
       "50%    1.211999e+09    37.766060  -122.430110   172.000000       1.000000\n",
       "75%    1.212516e+09    37.779180  -122.414770   402.000000       1.000000\n",
       "max    1.213086e+09    37.797410  -122.400000  1409.000000       1.000000"
      ],
      "text/html": "<div>\n<style scoped>\n    .dataframe tbody tr th:only-of-type {\n        vertical-align: middle;\n    }\n\n    .dataframe tbody tr th {\n        vertical-align: top;\n    }\n\n    .dataframe thead th {\n        text-align: right;\n    }\n</style>\n<table border=\"1\" class=\"dataframe\">\n  <thead>\n    <tr style=\"text-align: right;\">\n      <th></th>\n      <th>time</th>\n      <th>latitude</th>\n      <th>longitude</th>\n      <th>cluster-id</th>\n      <th>traffic-light</th>\n    </tr>\n  </thead>\n  <tbody>\n    <tr>\n      <th>count</th>\n      <td>7.169000e+03</td>\n      <td>7169.000000</td>\n      <td>7169.000000</td>\n      <td>7169.000000</td>\n      <td>7169.000000</td>\n    </tr>\n    <tr>\n      <th>mean</th>\n      <td>1.212012e+09</td>\n      <td>37.761167</td>\n      <td>-122.435798</td>\n      <td>282.382062</td>\n      <td>0.617938</td>\n    </tr>\n    <tr>\n      <th>std</th>\n      <td>5.884922e+05</td>\n      <td>0.021653</td>\n      <td>0.027070</td>\n      <td>286.447924</td>\n      <td>0.485925</td>\n    </tr>\n    <tr>\n      <th>min</th>\n      <td>1.211020e+09</td>\n      <td>37.701400</td>\n      <td>-122.499970</td>\n      <td>3.000000</td>\n      <td>0.000000</td>\n    </tr>\n    <tr>\n      <th>25%</th>\n      <td>1.211512e+09</td>\n      <td>37.748500</td>\n      <td>-122.455920</td>\n      <td>63.000000</td>\n      <td>0.000000</td>\n    </tr>\n    <tr>\n      <th>50%</th>\n      <td>1.211999e+09</td>\n      <td>37.766060</td>\n      <td>-122.430110</td>\n      <td>172.000000</td>\n      <td>1.000000</td>\n    </tr>\n    <tr>\n      <th>75%</th>\n      <td>1.212516e+09</td>\n      <td>37.779180</td>\n      <td>-122.414770</td>\n      <td>402.000000</td>\n      <td>1.000000</td>\n    </tr>\n    <tr>\n      <th>max</th>\n      <td>1.213086e+09</td>\n      <td>37.797410</td>\n      <td>-122.400000</td>\n      <td>1409.000000</td>\n      <td>1.000000</td>\n    </tr>\n  </tbody>\n</table>\n</div>"
     },
     "metadata": {},
     "execution_count": 4
    }
   ],
   "source": [
    "waiting_positions[\"traffic-light\"] = -1\n",
    "for cluster_id in centers.index.to_list():\n",
    "    waiting_positions.loc[waiting_positions[\"cluster-id\"] == cluster_id, \"traffic-light\"] = centers[cluster_id]\n",
    "\n",
    "waiting_positions = waiting_positions[waiting_positions[\"traffic-light\"] >= 0]\n",
    "waiting_positions.describe()"
   ]
  },
  {
   "cell_type": "code",
   "execution_count": 5,
   "metadata": {},
   "outputs": [],
   "source": [
    "waiting_positions = waiting_positions[[\"id\", \"traffic-light\"]]\n",
    "if DROP_DUPLICATE_REPORTS:\n",
    "    waiting_positions.drop_duplicates(inplace=True)"
   ]
  },
  {
   "cell_type": "code",
   "execution_count": 6,
   "metadata": {},
   "outputs": [
    {
     "output_type": "execute_result",
     "data": {
      "text/plain": [
       "       traffic-light  total-times  error-rate\n",
       "count      99.000000    99.000000   99.000000\n",
       "mean       44.747475    72.414141    0.356746\n",
       "std        36.691306    48.556723    0.191069\n",
       "min         2.000000     4.000000    0.000000\n",
       "25%        26.000000    43.500000    0.209914\n",
       "50%        40.000000    64.000000    0.326087\n",
       "75%        55.000000    88.500000    0.467967\n",
       "max       325.000000   333.000000    0.913978"
      ],
      "text/html": "<div>\n<style scoped>\n    .dataframe tbody tr th:only-of-type {\n        vertical-align: middle;\n    }\n\n    .dataframe tbody tr th {\n        vertical-align: top;\n    }\n\n    .dataframe thead th {\n        text-align: right;\n    }\n</style>\n<table border=\"1\" class=\"dataframe\">\n  <thead>\n    <tr style=\"text-align: right;\">\n      <th></th>\n      <th>traffic-light</th>\n      <th>total-times</th>\n      <th>error-rate</th>\n    </tr>\n  </thead>\n  <tbody>\n    <tr>\n      <th>count</th>\n      <td>99.000000</td>\n      <td>99.000000</td>\n      <td>99.000000</td>\n    </tr>\n    <tr>\n      <th>mean</th>\n      <td>44.747475</td>\n      <td>72.414141</td>\n      <td>0.356746</td>\n    </tr>\n    <tr>\n      <th>std</th>\n      <td>36.691306</td>\n      <td>48.556723</td>\n      <td>0.191069</td>\n    </tr>\n    <tr>\n      <th>min</th>\n      <td>2.000000</td>\n      <td>4.000000</td>\n      <td>0.000000</td>\n    </tr>\n    <tr>\n      <th>25%</th>\n      <td>26.000000</td>\n      <td>43.500000</td>\n      <td>0.209914</td>\n    </tr>\n    <tr>\n      <th>50%</th>\n      <td>40.000000</td>\n      <td>64.000000</td>\n      <td>0.326087</td>\n    </tr>\n    <tr>\n      <th>75%</th>\n      <td>55.000000</td>\n      <td>88.500000</td>\n      <td>0.467967</td>\n    </tr>\n    <tr>\n      <th>max</th>\n      <td>325.000000</td>\n      <td>333.000000</td>\n      <td>0.913978</td>\n    </tr>\n  </tbody>\n</table>\n</div>"
     },
     "metadata": {},
     "execution_count": 6
    }
   ],
   "source": [
    "true_detections_n = waiting_positions.groupby(\"id\")[\"traffic-light\"].sum()\n",
    "total_detections_n = waiting_positions.groupby(\"id\")[\"traffic-light\"].count()\n",
    "total_detections_n.name = \"total-times\"\n",
    "statistics = pd.concat([true_detections_n, total_detections_n], axis=1)\n",
    "statistics[\"error_rate\"] = 1.0 - (statistics[\"traffic-light\"] / statistics[\"total-times\"])\n",
    "statistics.describe()"
   ]
  },
  {
   "cell_type": "code",
   "execution_count": 7,
   "metadata": {},
   "outputs": [],
   "source": [
    "statistics.to_csv(os.path.join(DIR_PREFIX, \"error_rates.csv\"), columns=[\"error-rate\"])"
   ]
  }
 ]
}